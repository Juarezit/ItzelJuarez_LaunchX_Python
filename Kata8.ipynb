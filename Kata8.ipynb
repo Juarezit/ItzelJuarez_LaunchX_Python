{
 "cells": [
  {
   "cell_type": "code",
   "execution_count": 2,
   "metadata": {},
   "outputs": [
    {
     "name": "stdout",
     "output_type": "stream",
     "text": [
      "Marte tiene 2 lunas\n",
      "Marte tiene una circuferencia polar de 6752\n"
     ]
    }
   ],
   "source": [
    "planeta = {\n",
    "    'nombre': 'Marte',\n",
    "    'lunas': 2\n",
    "}\n",
    "\n",
    "print(f'{planeta[\"nombre\"]} tiene {planeta[\"lunas\"]} lunas')\n",
    "\n",
    "planeta['circunferencia en Km'] = {\n",
    "    'polar': 6752,\n",
    "    'equatorial': 6792\n",
    "}\n",
    "\n",
    "print(f'{planeta[\"nombre\"]} tiene una circuferencia polar de {planeta[\"circunferencia en Km\"][\"polar\"]}')"
   ]
  },
  {
   "cell_type": "code",
   "execution_count": 4,
   "metadata": {},
   "outputs": [
    {
     "name": "stdout",
     "output_type": "stream",
     "text": [
      "58.0\n"
     ]
    }
   ],
   "source": [
    "planet_moons = {\n",
    "    'mercury': 3,\n",
    "    'venus': 2,\n",
    "    'earth': 11,\n",
    "    'mars': 4,\n",
    "    'jupiter': 9,\n",
    "    'saturn': 2,\n",
    "    'uranus': 7,\n",
    "    'neptune': 184,\n",
    "    'pluto': 56,\n",
    "    'haumea': 298,\n",
    "    'makemake': 111,\n",
    "    'eris': 9\n",
    "}\n",
    "\n",
    "\n",
    "moons = planet_moons.values()\n",
    "\n",
    "planets = len(planet_moons.keys())\n",
    "\n",
    "total_moons = 0\n",
    "for moon in moons:\n",
    "    total_moons = total_moons + moon\n",
    "\n",
    "average = total_moons / planets\n",
    "print(round(average,2))"
   ]
  }
 ],
 "metadata": {
  "interpreter": {
   "hash": "acfef99757b7ab2106cc5ec8a3af79bb76f80ecd4b3d147fb7dd726f89ccc5d4"
  },
  "kernelspec": {
   "display_name": "Python 3.10.1 ('env': venv)",
   "language": "python",
   "name": "python3"
  },
  "language_info": {
   "codemirror_mode": {
    "name": "ipython",
    "version": 3
   },
   "file_extension": ".py",
   "mimetype": "text/x-python",
   "name": "python",
   "nbconvert_exporter": "python",
   "pygments_lexer": "ipython3",
   "version": "3.10.2"
  },
  "orig_nbformat": 4
 },
 "nbformat": 4,
 "nbformat_minor": 2
}
